{
 "cells": [
  {
   "cell_type": "markdown",
   "metadata": {},
   "source": [
    "# NumPy Basics and Arrays\n",
    "\n",
    "NumPy (Numerical Python) is the fundamental package for scientific computing in Python. It provides support for large, multi-dimensional arrays and matrices, along with a collection of mathematical functions to operate on these arrays.\n",
    "\n",
    "## Why NumPy?\n",
    "- **Performance**: NumPy arrays are much faster than Python lists\n",
    "- **Memory efficient**: Uses less memory than Python lists\n",
    "- **Vectorized operations**: Perform operations on entire arrays without writing loops\n",
    "- **Foundation**: Base for other libraries like Pandas, Scikit-learn, etc.\n",
    "\n",
    "## Topics Covered:\n",
    "- Installing and importing NumPy\n",
    "- Creating NumPy arrays\n",
    "- Array attributes and properties\n",
    "- Array data types\n",
    "- Array indexing and slicing\n",
    "- Array reshaping"
   ]
  },
  {
   "cell_type": "markdown",
   "metadata": {},
   "source": [
    "## Installing and Importing NumPy"
   ]
  },
  {
   "cell_type": "code",
   "execution_count": null,
   "metadata": {},
   "outputs": [],
   "source": [
    "# Install NumPy (run this if NumPy is not installed)\n",
    "# !pip install numpy\n",
    "\n",
    "# Import NumPy\n",
    "import numpy as np\n",
    "\n",
    "# Check NumPy version\n",
    "print(f\"NumPy version: {np.__version__}\")"
   ]
  },
  {
   "cell_type": "markdown",
   "metadata": {},
   "source": [
    "## Creating NumPy Arrays"
   ]
  },
  {
   "cell_type": "code",
   "execution_count": null,
   "metadata": {},
   "outputs": [],
   "source": [
    "# From Python lists\n",
    "list1 = [1, 2, 3, 4, 5]\n",
    "arr1 = np.array(list1)\n",
    "\n",
    "print(\"Python list:\", list1)\n",
    "print(\"NumPy array:\", arr1)\n",
    "print(\"Type:\", type(arr1))\n",
    "print()"
   ]
  },
  {
   "cell_type": "code",
   "execution_count": null,
   "metadata": {},
   "outputs": [],
   "source": [
    "# 2D array from nested lists\n",
    "list2d = [[1, 2, 3], [4, 5, 6], [7, 8, 9]]\n",
    "arr2d = np.array(list2d)\n",
    "\n",
    "print(\"2D array:\")\n",
    "print(arr2d)\n",
    "print()"
   ]
  },
  {
   "cell_type": "code",
   "execution_count": null,
   "metadata": {},
   "outputs": [],
   "source": [
    "# Using NumPy functions to create arrays\n",
    "\n",
    "# Array of zeros\n",
    "zeros = np.zeros(5)\n",
    "print(\"Zeros:\", zeros)\n",
    "\n",
    "# Array of ones\n",
    "ones = np.ones((3, 4))  # 3x4 matrix of ones\n",
    "print(\"\\nOnes (3x4):\")\n",
    "print(ones)\n",
    "\n",
    "# Array filled with a specific value\n",
    "full_array = np.full((2, 3), 7)\n",
    "print(\"\\nFilled with 7:\")\n",
    "print(full_array)"
   ]
  },
  {
   "cell_type": "code",
   "execution_count": null,
   "metadata": {},
   "outputs": [],
   "source": [
    "# Range-based arrays\n",
    "\n",
    "# Using arange (similar to Python's range)\n",
    "range_arr = np.arange(0, 10, 2)  # start, stop, step\n",
    "print(\"Arange (0 to 10, step 2):\", range_arr)\n",
    "\n",
    "# Using linspace (linearly spaced numbers)\n",
    "linear_arr = np.linspace(0, 1, 5)  # start, stop, number of points\n",
    "print(\"Linspace (0 to 1, 5 points):\", linear_arr)\n",
    "\n",
    "# Identity matrix\n",
    "identity = np.eye(3)  # 3x3 identity matrix\n",
    "print(\"\\nIdentity matrix (3x3):\")\n",
    "print(identity)"
   ]
  },
  {
   "cell_type": "code",
   "execution_count": null,
   "metadata": {},
   "outputs": [],
   "source": [
    "# Random arrays\n",
    "np.random.seed(42)  # For reproducible results\n",
    "\n",
    "# Random numbers between 0 and 1\n",
    "random_arr = np.random.random((2, 3))\n",
    "print(\"Random array (0-1):\")\n",
    "print(random_arr)\n",
    "\n",
    "# Random integers\n",
    "random_ints = np.random.randint(1, 10, size=(3, 3))\n",
    "print(\"\\nRandom integers (1-9):\")\n",
    "print(random_ints)\n",
    "\n",
    "# Random numbers from normal distribution\n",
    "normal_arr = np.random.normal(0, 1, size=5)  # mean=0, std=1\n",
    "print(\"\\nNormal distribution:\", normal_arr)"
   ]
  },
  {
   "cell_type": "markdown",
   "metadata": {},
   "source": [
    "## Array Attributes and Properties"
   ]
  },
  {
   "cell_type": "code",
   "execution_count": null,
   "metadata": {},
   "outputs": [],
   "source": [
    "# Create a sample array\n",
    "sample_arr = np.array([[1, 2, 3, 4], [5, 6, 7, 8], [9, 10, 11, 12]])\n",
    "\n",
    "print(\"Sample array:\")\n",
    "print(sample_arr)\n",
    "print()\n",
    "\n",
    "# Important attributes\n",
    "print(f\"Shape: {sample_arr.shape}\")          # Dimensions\n",
    "print(f\"Size: {sample_arr.size}\")            # Total number of elements\n",
    "print(f\"Ndim: {sample_arr.ndim}\")            # Number of dimensions\n",
    "print(f\"Dtype: {sample_arr.dtype}\")          # Data type\n",
    "print(f\"Itemsize: {sample_arr.itemsize}\")    # Size of each element in bytes\n",
    "print(f\"Nbytes: {sample_arr.nbytes}\")        # Total bytes consumed"
   ]
  },
  {
   "cell_type": "markdown",
   "metadata": {},
   "source": [
    "## Array Data Types"
   ]
  },
  {
   "cell_type": "code",
   "execution_count": null,
   "metadata": {},
   "outputs": [],
   "source": [
    "# Different data types\n",
    "int_arr = np.array([1, 2, 3], dtype=np.int32)\n",
    "float_arr = np.array([1, 2, 3], dtype=np.float64)\n",
    "bool_arr = np.array([True, False, True], dtype=bool)\n",
    "string_arr = np.array(['a', 'b', 'c'], dtype='U1')  # Unicode string of length 1\n",
    "\n",
    "print(\"Integer array:\", int_arr, \"dtype:\", int_arr.dtype)\n",
    "print(\"Float array:\", float_arr, \"dtype:\", float_arr.dtype)\n",
    "print(\"Boolean array:\", bool_arr, \"dtype:\", bool_arr.dtype)\n",
    "print(\"String array:\", string_arr, \"dtype:\", string_arr.dtype)\n",
    "print()"
   ]
  },
  {
   "cell_type": "code",
   "execution_count": null,
   "metadata": {},
   "outputs": [],
   "source": [
    "# Type conversion\n",
    "original = np.array([1.1, 2.7, 3.9, 4.2])\n",
    "print(\"Original:\", original, \"dtype:\", original.dtype)\n",
    "\n",
    "# Convert to integer\n",
    "as_int = original.astype(int)\n",
    "print(\"As integer:\", as_int, \"dtype:\", as_int.dtype)\n",
    "\n",
    "# Convert to string\n",
    "as_string = original.astype(str)\n",
    "print(\"As string:\", as_string, \"dtype:\", as_string.dtype)"
   ]
  },
  {
   "cell_type": "markdown",
   "metadata": {},
   "source": [
    "## Array Indexing and Slicing"
   ]
  },
  {
   "cell_type": "code",
   "execution_count": null,
   "metadata": {},
   "outputs": [],
   "source": [
    "# 1D array indexing\n",
    "arr_1d = np.array([10, 20, 30, 40, 50])\n",
    "\n",
    "print(\"1D array:\", arr_1d)\n",
    "print(f\"First element: {arr_1d[0]}\")\n",
    "print(f\"Last element: {arr_1d[-1]}\")\n",
    "print(f\"Elements 1-3: {arr_1d[1:4]}\")\n",
    "print(f\"Every other element: {arr_1d[::2]}\")\n",
    "print()"
   ]
  },
  {
   "cell_type": "code",
   "execution_count": null,
   "metadata": {},
   "outputs": [],
   "source": [
    "# 2D array indexing\n",
    "arr_2d = np.array([[1, 2, 3], [4, 5, 6], [7, 8, 9]])\n",
    "\n",
    "print(\"2D array:\")\n",
    "print(arr_2d)\n",
    "print()\n",
    "\n",
    "# Indexing\n",
    "print(f\"Element at row 1, col 2: {arr_2d[1, 2]}\")\n",
    "print(f\"First row: {arr_2d[0, :]}\")\n",
    "print(f\"Second column: {arr_2d[:, 1]}\")\n",
    "print(f\"Top-left 2x2: \\n{arr_2d[:2, :2]}\")"
   ]
  },
  {
   "cell_type": "code",
   "execution_count": null,
   "metadata": {},
   "outputs": [],
   "source": [
    "# Boolean indexing\n",
    "arr = np.array([1, 5, 3, 8, 2, 9, 4])\n",
    "\n",
    "print(\"Original array:\", arr)\n",
    "\n",
    "# Create boolean mask\n",
    "mask = arr > 4\n",
    "print(\"Mask (> 4):\", mask)\n",
    "print(\"Elements > 4:\", arr[mask])\n",
    "\n",
    "# One-liner\n",
    "print(\"Elements <= 4:\", arr[arr <= 4])\n",
    "print(\"Even numbers:\", arr[arr % 2 == 0])"
   ]
  },
  {
   "cell_type": "code",
   "execution_count": null,
   "metadata": {},
   "outputs": [],
   "source": [
    "# Fancy indexing (using arrays as indices)\n",
    "arr = np.array([10, 20, 30, 40, 50])\n",
    "indices = np.array([0, 2, 4])\n",
    "\n",
    "print(\"Original array:\", arr)\n",
    "print(\"Indices:\", indices)\n",
    "print(\"Selected elements:\", arr[indices])\n",
    "\n",
    "# 2D fancy indexing\n",
    "arr_2d = np.array([[1, 2], [3, 4], [5, 6]])\n",
    "row_indices = np.array([0, 2])\n",
    "col_indices = np.array([1, 0])\n",
    "\n",
    "print(\"\\n2D array:\")\n",
    "print(arr_2d)\n",
    "print(\"Selected elements:\", arr_2d[row_indices, col_indices])"
   ]
  },
  {
   "cell_type": "markdown",
   "metadata": {},
   "source": [
    "## Array Reshaping"
   ]
  },
  {
   "cell_type": "code",
   "execution_count": null,
   "metadata": {},
   "outputs": [],
   "source": [
    "# Reshaping arrays\n",
    "arr_1d = np.arange(12)\n",
    "print(\"Original 1D array:\", arr_1d)\n",
    "print(\"Shape:\", arr_1d.shape)\n",
    "print()\n",
    "\n",
    "# Reshape to 2D\n",
    "arr_2d = arr_1d.reshape(3, 4)\n",
    "print(\"Reshaped to 3x4:\")\n",
    "print(arr_2d)\n",
    "print(\"Shape:\", arr_2d.shape)\n",
    "print()\n",
    "\n",
    "# Reshape to 3D\n",
    "arr_3d = arr_1d.reshape(2, 2, 3)\n",
    "print(\"Reshaped to 2x2x3:\")\n",
    "print(arr_3d)\n",
    "print(\"Shape:\", arr_3d.shape)"
   ]
  },
  {
   "cell_type": "code",
   "execution_count": null,
   "metadata": {},
   "outputs": [],
   "source": [
    "# Automatic dimension calculation\n",
    "arr = np.arange(24)\n",
    "print(\"Original array shape:\", arr.shape)\n",
    "\n",
    "# Let NumPy calculate one dimension\n",
    "reshaped = arr.reshape(4, -1)  # -1 means \"calculate this dimension\"\n",
    "print(\"Reshaped (4, -1):\", reshaped.shape)\n",
    "print(reshaped)\n",
    "print()\n",
    "\n",
    "# Another example\n",
    "reshaped2 = arr.reshape(-1, 6)\n",
    "print(\"Reshaped (-1, 6):\", reshaped2.shape)\n",
    "print(reshaped2)"
   ]
  },
  {
   "cell_type": "code",
   "execution_count": null,
   "metadata": {},
   "outputs": [],
   "source": [
    "# Flattening arrays\n",
    "arr_2d = np.array([[1, 2, 3], [4, 5, 6]])\n",
    "print(\"2D array:\")\n",
    "print(arr_2d)\n",
    "\n",
    "# Flatten to 1D\n",
    "flattened = arr_2d.flatten()\n",
    "print(\"Flattened:\", flattened)\n",
    "\n",
    "# Alternative: ravel (returns a view when possible)\n",
    "raveled = arr_2d.ravel()\n",
    "print(\"Raveled:\", raveled)\n",
    "\n",
    "# Reshape to 1D\n",
    "reshaped_1d = arr_2d.reshape(-1)\n",
    "print(\"Reshaped to 1D:\", reshaped_1d)"
   ]
  },
  {
   "cell_type": "markdown",
   "metadata": {},
   "source": [
    "## Array vs List Performance Comparison"
   ]
  },
  {
   "cell_type": "code",
   "execution_count": null,
   "metadata": {},
   "outputs": [],
   "source": [
    "import time\n",
    "\n",
    "# Create large data structures\n",
    "size = 1000000\n",
    "python_list = list(range(size))\n",
    "numpy_array = np.arange(size)\n",
    "\n",
    "print(f\"Comparing performance with {size:,} elements:\")\n",
    "print()\n",
    "\n",
    "# Test sum operation\n",
    "# Python list\n",
    "start_time = time.time()\n",
    "list_sum = sum(python_list)\n",
    "list_time = time.time() - start_time\n",
    "\n",
    "# NumPy array\n",
    "start_time = time.time()\n",
    "array_sum = np.sum(numpy_array)\n",
    "array_time = time.time() - start_time\n",
    "\n",
    "print(f\"List sum time: {list_time:.4f} seconds\")\n",
    "print(f\"Array sum time: {array_time:.4f} seconds\")\n",
    "print(f\"NumPy is {list_time/array_time:.1f}x faster\")\n",
    "\n",
    "# Memory comparison\n",
    "import sys\n",
    "list_memory = sys.getsizeof(python_list) + sum(sys.getsizeof(i) for i in python_list[:100])  # Sample\n",
    "array_memory = numpy_array.nbytes\n",
    "\n",
    "print(f\"\\nMemory usage (approximate):\")\n",
    "print(f\"List: {list_memory:,} bytes (sample-based estimate)\")\n",
    "print(f\"Array: {array_memory:,} bytes\")"
   ]
  },
  {
   "cell_type": "markdown",
   "metadata": {},
   "source": [
    "## Practical Examples"
   ]
  },
  {
   "cell_type": "code",
   "execution_count": null,
   "metadata": {},
   "outputs": [],
   "source": [
    "# Example 1: Creating a multiplication table\n",
    "def create_multiplication_table(n):\n",
    "    \"\"\"Create an n x n multiplication table\"\"\"\n",
    "    # Create arrays for rows and columns\n",
    "    rows = np.arange(1, n+1).reshape(-1, 1)  # Column vector\n",
    "    cols = np.arange(1, n+1).reshape(1, -1)  # Row vector\n",
    "    \n",
    "    # Broadcasting will create the multiplication table\n",
    "    table = rows * cols\n",
    "    return table\n",
    "\n",
    "# Create a 5x5 multiplication table\n",
    "mult_table = create_multiplication_table(5)\n",
    "print(\"5x5 Multiplication table:\")\n",
    "print(mult_table)"
   ]
  },
  {
   "cell_type": "code",
   "execution_count": null,
   "metadata": {},
   "outputs": [],
   "source": [
    "# Example 2: Data analysis with grades\n",
    "# Simulate student grades\n",
    "np.random.seed(42)\n",
    "num_students = 30\n",
    "num_subjects = 5\n",
    "\n",
    "# Generate random grades (0-100)\n",
    "grades = np.random.randint(60, 101, size=(num_students, num_subjects))\n",
    "\n",
    "print(f\"Grades matrix shape: {grades.shape}\")\n",
    "print(\"Sample grades (first 5 students):\")\n",
    "print(grades[:5])\n",
    "print()\n",
    "\n",
    "# Calculate statistics\n",
    "student_averages = grades.mean(axis=1)  # Average across subjects for each student\n",
    "subject_averages = grades.mean(axis=0)  # Average across students for each subject\n",
    "\n",
    "print(f\"Student averages (first 10): {student_averages[:10].round(1)}\")\n",
    "print(f\"Subject averages: {subject_averages.round(1)}\")\n",
    "print()\n",
    "\n",
    "# Find top performers\n",
    "top_student_idx = np.argmax(student_averages)\n",
    "print(f\"Top student (index {top_student_idx}): {student_averages[top_student_idx]:.1f} average\")\n",
    "print(f\"Top student's grades: {grades[top_student_idx]}\")\n",
    "\n",
    "# Count students with average > 85\n",
    "high_performers = np.sum(student_averages > 85)\n",
    "print(f\"Students with average > 85: {high_performers}\")"
   ]
  },
  {
   "cell_type": "markdown",
   "metadata": {},
   "source": [
    "## Key Takeaways\n",
    "\n",
    "1. **NumPy arrays are faster and more memory-efficient** than Python lists\n",
    "2. **Array creation**: Use `np.array()`, `np.zeros()`, `np.ones()`, `np.arange()`, `np.linspace()`\n",
    "3. **Important attributes**: `shape`, `size`, `ndim`, `dtype`\n",
    "4. **Indexing**: Similar to Python lists but more powerful with boolean and fancy indexing\n",
    "5. **Reshaping**: Use `reshape()`, `flatten()`, `ravel()` to change array dimensions\n",
    "6. **Data types matter**: Choose appropriate dtypes for memory efficiency\n",
    "7. **Broadcasting**: NumPy can perform operations on arrays of different shapes\n",
    "\n",
    "## Practice Exercises\n",
    "\n",
    "1. Create a 10x10 array of random integers and find the maximum value in each row\n",
    "2. Generate a checkerboard pattern using NumPy arrays\n",
    "3. Create a function that normalizes an array (subtract mean, divide by standard deviation)\n",
    "4. Find all prime numbers up to 100 using NumPy operations\n",
    "5. Create a mandelbrot set visualization using NumPy arrays\n",
    "\n",
    "## Next Steps\n",
    "\n",
    "In the next notebook, we'll explore:\n",
    "- Mathematical operations on arrays\n",
    "- Broadcasting rules\n",
    "- Linear algebra with NumPy\n",
    "- Statistical functions"
   ]
  }
 ],
 "metadata": {
  "kernelspec": {
   "display_name": "Python 3",
   "language": "python",
   "name": "python3"
  },
  "language_info": {
   "codemirror_mode": {
    "name": "ipython",
    "version": 3
   },
   "file_extension": ".py",
   "mimetype": "text/x-python",
   "name": "python",
   "nbconvert_exporter": "python",
   "pygments_lexer": "ipython3",
   "version": "3.8.5"
  }
 },
 "nbformat": 4,
 "nbformat_minor": 4
}