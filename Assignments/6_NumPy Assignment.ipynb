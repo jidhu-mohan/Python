{
 "cells": [
  {
   "cell_type": "markdown",
   "metadata": {},
   "source": [
    "# NumPy Assignment\n",
    "\n",
    "## Test your knowledge of NumPy fundamentals\n",
    "\n",
    "Complete the following exercises to test your understanding of NumPy arrays, operations, and methods."
   ]
  },
  {
   "cell_type": "markdown",
   "metadata": {},
   "source": [
    "## Import NumPy\n",
    "\n",
    "Import NumPy as np:"
   ]
  },
  {
   "cell_type": "code",
   "execution_count": null,
   "metadata": {},
   "outputs": [],
   "source": [
    "# Import NumPy\n"
   ]
  },
  {
   "cell_type": "markdown",
   "metadata": {},
   "source": [
    "## Array Creation\n",
    "\n",
    "### Exercise 1: Create Arrays\n",
    "\n",
    "1. Create a 1D array with values from 0 to 9\n",
    "2. Create a 3x3 array of zeros\n",
    "3. Create a 2x4 array of ones\n",
    "4. Create an identity matrix of size 4x4\n",
    "5. Create a random 3x3 array with values between 0 and 1"
   ]
  },
  {
   "cell_type": "code",
   "execution_count": null,
   "metadata": {},
   "outputs": [],
   "source": [
    "# 1. Create 1D array from 0 to 9\n",
    "arr1 = \n",
    "print(\"1D array:\", arr1)"
   ]
  },
  {
   "cell_type": "code",
   "execution_count": null,
   "metadata": {},
   "outputs": [],
   "source": [
    "# 2. Create 3x3 array of zeros\n",
    "arr2 = \n",
    "print(\"3x3 zeros:\")\n",
    "print(arr2)"
   ]
  },
  {
   "cell_type": "code",
   "execution_count": null,
   "metadata": {},
   "outputs": [],
   "source": [
    "# 3. Create 2x4 array of ones\n",
    "arr3 = \n",
    "print(\"2x4 ones:\")\n",
    "print(arr3)"
   ]
  },
  {
   "cell_type": "code",
   "execution_count": null,
   "metadata": {},
   "outputs": [],
   "source": [
    "# 4. Create 4x4 identity matrix\n",
    "arr4 = \n",
    "print(\"4x4 identity matrix:\")\n",
    "print(arr4)"
   ]
  },
  {
   "cell_type": "code",
   "execution_count": null,
   "metadata": {},
   "outputs": [],
   "source": [
    "# 5. Create random 3x3 array\n",
    "np.random.seed(42)  # For reproducible results\n",
    "arr5 = \n",
    "print(\"Random 3x3 array:\")\n",
    "print(arr5)"
   ]
  },
  {
   "cell_type": "markdown",
   "metadata": {},
   "source": [
    "## Array Indexing and Slicing\n",
    "\n",
    "### Exercise 2: Working with the following array\n",
    "\n",
    "Use the array below to complete the following tasks:"
   ]
  },
  {
   "cell_type": "code",
   "execution_count": null,
   "metadata": {},
   "outputs": [],
   "source": [
    "arr = np.array([[1, 2, 3, 4, 5],\n",
    "                [6, 7, 8, 9, 10],\n",
    "                [11, 12, 13, 14, 15],\n",
    "                [16, 17, 18, 19, 20]])\n",
    "print(\"Original array:\")\n",
    "print(arr)"
   ]
  },
  {
   "cell_type": "markdown",
   "metadata": {},
   "source": [
    "1. Get the element at row 2, column 3\n",
    "2. Get the first row\n",
    "3. Get the last column\n",
    "4. Get the subarray containing rows 1-2 and columns 2-4\n",
    "5. Get all elements greater than 10"
   ]
  },
  {
   "cell_type": "code",
   "execution_count": null,
   "metadata": {},
   "outputs": [],
   "source": [
    "# 1. Element at row 2, column 3 (remember 0-indexing)\n",
    "element = \n",
    "print(\"Element at row 2, column 3:\", element)"
   ]
  },
  {
   "cell_type": "code",
   "execution_count": null,
   "metadata": {},
   "outputs": [],
   "source": [
    "# 2. First row\n",
    "first_row = \n",
    "print(\"First row:\", first_row)"
   ]
  },
  {
   "cell_type": "code",
   "execution_count": null,
   "metadata": {},
   "outputs": [],
   "source": [
    "# 3. Last column\n",
    "last_col = \n",
    "print(\"Last column:\", last_col)"
   ]
  },
  {
   "cell_type": "code",
   "execution_count": null,
   "metadata": {},
   "outputs": [],
   "source": [
    "# 4. Subarray rows 1-2, columns 2-4\n",
    "subarray = \n",
    "print(\"Subarray:\")\n",
    "print(subarray)"
   ]
  },
  {
   "cell_type": "code",
   "execution_count": null,
   "metadata": {},
   "outputs": [],
   "source": [
    "# 5. Elements greater than 10\n",
    "greater_than_10 = \n",
    "print(\"Elements > 10:\", greater_than_10)"
   ]
  },
  {
   "cell_type": "markdown",
   "metadata": {},
   "source": [
    "## Array Operations\n",
    "\n",
    "### Exercise 3: Mathematical Operations\n",
    "\n",
    "Create two arrays and perform various operations:"
   ]
  },
  {
   "cell_type": "code",
   "execution_count": null,
   "metadata": {},
   "outputs": [],
   "source": [
    "# Create two arrays for operations\n",
    "a = np.array([1, 2, 3, 4, 5])\n",
    "b = np.array([2, 4, 6, 8, 10])\n",
    "\n",
    "print(\"Array a:\", a)\n",
    "print(\"Array b:\", b)"
   ]
  },
  {
   "cell_type": "markdown",
   "metadata": {},
   "source": [
    "1. Add arrays a and b\n",
    "2. Subtract b from a\n",
    "3. Multiply arrays a and b (element-wise)\n",
    "4. Divide array b by array a\n",
    "5. Calculate the square of array a\n",
    "6. Calculate the square root of array b"
   ]
  },
  {
   "cell_type": "code",
   "execution_count": null,
   "metadata": {},
   "outputs": [],
   "source": [
    "# 1. Addition\n",
    "addition = \n",
    "print(\"a + b =\", addition)"
   ]
  },
  {
   "cell_type": "code",
   "execution_count": null,
   "metadata": {},
   "outputs": [],
   "source": [
    "# 2. Subtraction\n",
    "subtraction = \n",
    "print(\"a - b =\", subtraction)"
   ]
  },
  {
   "cell_type": "code",
   "execution_count": null,
   "metadata": {},
   "outputs": [],
   "source": [
    "# 3. Element-wise multiplication\n",
    "multiplication = \n",
    "print(\"a * b =\", multiplication)"
   ]
  },
  {
   "cell_type": "code",
   "execution_count": null,
   "metadata": {},
   "outputs": [],
   "source": [
    "# 4. Division\n",
    "division = \n",
    "print(\"b / a =\", division)"
   ]
  },
  {
   "cell_type": "code",
   "execution_count": null,
   "metadata": {},
   "outputs": [],
   "source": [
    "# 5. Square of a\n",
    "square_a = \n",
    "print(\"a² =\", square_a)"
   ]
  },
  {
   "cell_type": "code",
   "execution_count": null,
   "metadata": {},
   "outputs": [],
   "source": [
    "# 6. Square root of b\n",
    "sqrt_b = \n",
    "print(\"√b =\", sqrt_b)"
   ]
  },
  {
   "cell_type": "markdown",
   "metadata": {},
   "source": [
    "## Statistical Operations\n",
    "\n",
    "### Exercise 4: Array Statistics\n",
    "\n",
    "Use the following array to calculate various statistics:"
   ]
  },
  {
   "cell_type": "code",
   "execution_count": null,
   "metadata": {},
   "outputs": [],
   "source": [
    "data = np.array([[10, 20, 30, 40],\n",
    "                 [50, 60, 70, 80],\n",
    "                 [90, 100, 110, 120]])\n",
    "\n",
    "print(\"Data array:\")\n",
    "print(data)"
   ]
  },
  {
   "cell_type": "markdown",
   "metadata": {},
   "source": [
    "1. Calculate the mean of all elements\n",
    "2. Calculate the mean along axis 0 (columns)\n",
    "3. Calculate the mean along axis 1 (rows)\n",
    "4. Find the maximum value\n",
    "5. Find the minimum value\n",
    "6. Calculate the standard deviation\n",
    "7. Find the sum of all elements"
   ]
  },
  {
   "cell_type": "code",
   "execution_count": null,
   "metadata": {},
   "outputs": [],
   "source": [
    "# 1. Mean of all elements\n",
    "mean_all = \n",
    "print(\"Mean of all elements:\", mean_all)"
   ]
  },
  {
   "cell_type": "code",
   "execution_count": null,
   "metadata": {},
   "outputs": [],
   "source": [
    "# 2. Mean along axis 0 (columns)\n",
    "mean_cols = \n",
    "print(\"Mean along columns:\", mean_cols)"
   ]
  },
  {
   "cell_type": "code",
   "execution_count": null,
   "metadata": {},
   "outputs": [],
   "source": [
    "# 3. Mean along axis 1 (rows)\n",
    "mean_rows = \n",
    "print(\"Mean along rows:\", mean_rows)"
   ]
  },
  {
   "cell_type": "code",
   "execution_count": null,
   "metadata": {},
   "outputs": [],
   "source": [
    "# 4. Maximum value\n",
    "max_val = \n",
    "print(\"Maximum value:\", max_val)"
   ]
  },
  {
   "cell_type": "code",
   "execution_count": null,
   "metadata": {},
   "outputs": [],
   "source": [
    "# 5. Minimum value\n",
    "min_val = \n",
    "print(\"Minimum value:\", min_val)"
   ]
  },
  {
   "cell_type": "code",
   "execution_count": null,
   "metadata": {},
   "outputs": [],
   "source": [
    "# 6. Standard deviation\n",
    "std_val = \n",
    "print(\"Standard deviation:\", std_val)"
   ]
  },
  {
   "cell_type": "code",
   "execution_count": null,
   "metadata": {},
   "outputs": [],
   "source": [
    "# 7. Sum of all elements\n",
    "sum_val = \n",
    "print(\"Sum of all elements:\", sum_val)"
   ]
  },
  {
   "cell_type": "markdown",
   "metadata": {},
   "source": [
    "## Array Reshaping and Manipulation\n",
    "\n",
    "### Exercise 5: Reshape and Manipulate Arrays"
   ]
  },
  {
   "cell_type": "code",
   "execution_count": null,
   "metadata": {},
   "outputs": [],
   "source": [
    "# Create an array from 1 to 12\n",
    "arr = np.arange(1, 13)\n",
    "print(\"Original array:\", arr)"
   ]
  },
  {
   "cell_type": "markdown",
   "metadata": {},
   "source": [
    "1. Reshape the array to 3x4\n",
    "2. Reshape the array to 2x6\n",
    "3. Transpose the 3x4 array\n",
    "4. Flatten the array back to 1D\n",
    "5. Create a copy of the original array and modify one element"
   ]
  },
  {
   "cell_type": "code",
   "execution_count": null,
   "metadata": {},
   "outputs": [],
   "source": [
    "# 1. Reshape to 3x4\n",
    "arr_3x4 = \n",
    "print(\"3x4 array:\")\n",
    "print(arr_3x4)"
   ]
  },
  {
   "cell_type": "code",
   "execution_count": null,
   "metadata": {},
   "outputs": [],
   "source": [
    "# 2. Reshape to 2x6\n",
    "arr_2x6 = \n",
    "print(\"2x6 array:\")\n",
    "print(arr_2x6)"
   ]
  },
  {
   "cell_type": "code",
   "execution_count": null,
   "metadata": {},
   "outputs": [],
   "source": [
    "# 3. Transpose the 3x4 array\n",
    "arr_transposed = \n",
    "print(\"Transposed array:\")\n",
    "print(arr_transposed)"
   ]
  },
  {
   "cell_type": "code",
   "execution_count": null,
   "metadata": {},
   "outputs": [],
   "source": [
    "# 4. Flatten the array\n",
    "arr_flat = \n",
    "print(\"Flattened array:\", arr_flat)"
   ]
  },
  {
   "cell_type": "code",
   "execution_count": null,
   "metadata": {},
   "outputs": [],
   "source": [
    "# 5. Create a copy and modify\n",
    "arr_copy = \n",
    "arr_copy[0] = 999\n",
    "print(\"Original array:\", arr)\n",
    "print(\"Modified copy:\", arr_copy)"
   ]
  },
  {
   "cell_type": "markdown",
   "metadata": {},
   "source": [
    "## Boolean Indexing and Conditional Selection\n",
    "\n",
    "### Exercise 6: Working with Conditions\n",
    "\n",
    "Use the following array for conditional operations:"
   ]
  },
  {
   "cell_type": "code",
   "execution_count": null,
   "metadata": {},
   "outputs": [],
   "source": [
    "scores = np.array([85, 92, 78, 95, 67, 88, 73, 91, 84, 79])\n",
    "print(\"Test scores:\", scores)"
   ]
  },
  {
   "cell_type": "markdown",
   "metadata": {},
   "source": [
    "1. Find all scores greater than 80\n",
    "2. Find all scores between 75 and 90 (inclusive)\n",
    "3. Count how many scores are above 85\n",
    "4. Replace all scores below 75 with 75\n",
    "5. Create a boolean array indicating which scores are A grades (90 or above)"
   ]
  },
  {
   "cell_type": "code",
   "execution_count": null,
   "metadata": {},
   "outputs": [],
   "source": [
    "# 1. Scores greater than 80\n",
    "above_80 = \n",
    "print(\"Scores > 80:\", above_80)"
   ]
  },
  {
   "cell_type": "code",
   "execution_count": null,
   "metadata": {},
   "outputs": [],
   "source": [
    "# 2. Scores between 75 and 90\n",
    "between_75_90 = \n",
    "print(\"Scores between 75-90:\", between_75_90)"
   ]
  },
  {
   "cell_type": "code",
   "execution_count": null,
   "metadata": {},
   "outputs": [],
   "source": [
    "# 3. Count scores above 85\n",
    "count_above_85 = \n",
    "print(\"Number of scores > 85:\", count_above_85)"
   ]
  },
  {
   "cell_type": "code",
   "execution_count": null,
   "metadata": {},
   "outputs": [],
   "source": [
    "# 4. Replace scores below 75 with 75\n",
    "scores_adjusted = scores.copy()\n",
    "# Your code here\n",
    "\n",
    "print(\"Adjusted scores:\", scores_adjusted)"
   ]
  },
  {
   "cell_type": "code",
   "execution_count": null,
   "metadata": {},
   "outputs": [],
   "source": [
    "# 5. Boolean array for A grades (90+)\n",
    "a_grades = \n",
    "print(\"A grades boolean:\", a_grades)\n",
    "print(\"A grade scores:\", scores[a_grades])"
   ]
  },
  {
   "cell_type": "markdown",
   "metadata": {},
   "source": [
    "## Challenge Problem\n",
    "\n",
    "### Exercise 7: Matrix Operations\n",
    "\n",
    "Create two 3x3 matrices and perform matrix multiplication, then find the determinant and inverse of the result."
   ]
  },
  {
   "cell_type": "code",
   "execution_count": null,
   "metadata": {},
   "outputs": [],
   "source": [
    "# Create two 3x3 matrices\n",
    "matrix1 = np.array([[1, 2, 3],\n",
    "                    [4, 5, 6],\n",
    "                    [7, 8, 10]])  # Note: changed last element to make it invertible\n",
    "\n",
    "matrix2 = np.array([[2, 0, 1],\n",
    "                    [1, 3, 2],\n",
    "                    [0, 1, 4]])\n",
    "\n",
    "print(\"Matrix 1:\")\n",
    "print(matrix1)\n",
    "print(\"\\nMatrix 2:\")\n",
    "print(matrix2)"
   ]
  },
  {
   "cell_type": "markdown",
   "metadata": {},
   "source": [
    "1. Perform matrix multiplication (use np.dot or @)\n",
    "2. Calculate the determinant of the result\n",
    "3. Calculate the inverse of the result (if possible)\n",
    "4. Verify the inverse by multiplying it with the original matrix"
   ]
  },
  {
   "cell_type": "code",
   "execution_count": null,
   "metadata": {},
   "outputs": [],
   "source": [
    "# 1. Matrix multiplication\n",
    "result_matrix = \n",
    "print(\"Matrix multiplication result:\")\n",
    "print(result_matrix)"
   ]
  },
  {
   "cell_type": "code",
   "execution_count": null,
   "metadata": {},
   "outputs": [],
   "source": [
    "# 2. Calculate determinant\n",
    "det = \n",
    "print(\"Determinant:\", det)"
   ]
  },
  {
   "cell_type": "code",
   "execution_count": null,
   "metadata": {},
   "outputs": [],
   "source": [
    "# 3. Calculate inverse (only if determinant is non-zero)\n",
    "if det != 0:\n",
    "    inverse_matrix = \n",
    "    print(\"Inverse matrix:\")\n",
    "    print(inverse_matrix)\n",
    "else:\n",
    "    print(\"Matrix is not invertible (determinant is 0)\")"
   ]
  },
  {
   "cell_type": "code",
   "execution_count": null,
   "metadata": {},
   "outputs": [],
   "source": [
    "# 4. Verify the inverse\n",
    "if det != 0:\n",
    "    verification = \n",
    "    print(\"Verification (should be close to identity matrix):\")\n",
    "    print(verification)"
   ]
  },
  {
   "cell_type": "markdown",
   "metadata": {},
   "source": [
    "## Congratulations!\n",
    "\n",
    "You've completed the NumPy assignment. This covered:\n",
    "\n",
    "- Array creation and initialization\n",
    "- Indexing and slicing\n",
    "- Mathematical operations\n",
    "- Statistical functions\n",
    "- Array reshaping and manipulation\n",
    "- Boolean indexing and conditional selection\n",
    "- Matrix operations\n",
    "\n",
    "Great work on mastering NumPy fundamentals!"
   ]
  }
 ],
 "metadata": {
  "kernelspec": {
   "display_name": "Python 3",
   "language": "python",
   "name": "python3"
  },
  "language_info": {
   "codemirror_mode": {
    "name": "ipython",
    "version": 3
   },
   "file_extension": ".py",
   "mimetype": "text/x-python",
   "name": "python",
   "nbconvert_exporter": "python",
   "pygments_lexer": "ipython3",
   "version": "3.8.5"
  }
 },
 "nbformat": 4,
 "nbformat_minor": 4
}