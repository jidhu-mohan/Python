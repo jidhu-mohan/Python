{
 "cells": [
  {
   "cell_type": "markdown",
   "metadata": {},
   "source": [
    "# File Reading and Writing in Python\n",
    "\n",
    "In this notebook, we'll learn how to read from and write to files in Python. File handling is essential for data processing and is a prerequisite for data science and NLP tasks.\n",
    "\n",
    "## Topics Covered:\n",
    "- Opening and closing files\n",
    "- Reading files (text and binary)\n",
    "- Writing files\n",
    "- File modes\n",
    "- Context managers (with statement)\n",
    "- Exception handling with files"
   ]
  },
  {
   "cell_type": "markdown",
   "metadata": {},
   "source": [
    "## Basic File Operations"
   ]
  },
  {
   "cell_type": "code",
   "execution_count": null,
   "metadata": {},
   "outputs": [],
   "source": [
    "# Create a sample text file\n",
    "sample_text = \"\"\"Hello World!\n",
    "This is a sample text file.\n",
    "We will use this for demonstration.\n",
    "Python file handling is important for data processing.\n",
    "\"\"\"\n",
    "\n",
    "# Write to a file\n",
    "with open('sample.txt', 'w') as file:\n",
    "    file.write(sample_text)\n",
    "\n",
    "print(\"File created successfully!\")"
   ]
  },
  {
   "cell_type": "markdown",
   "metadata": {},
   "source": [
    "## Reading Files"
   ]
  },
  {
   "cell_type": "code",
   "execution_count": null,
   "metadata": {},
   "outputs": [],
   "source": [
    "# Method 1: Read entire file at once\n",
    "with open('sample.txt', 'r') as file:\n",
    "    content = file.read()\n",
    "    print(\"Full content:\")\n",
    "    print(content)"
   ]
  },
  {
   "cell_type": "code",
   "execution_count": null,
   "metadata": {},
   "outputs": [],
   "source": [
    "# Method 2: Read line by line\n",
    "with open('sample.txt', 'r') as file:\n",
    "    print(\"Reading line by line:\")\n",
    "    for line_number, line in enumerate(file, 1):\n",
    "        print(f\"Line {line_number}: {line.strip()}\")"
   ]
  },
  {
   "cell_type": "code",
   "execution_count": null,
   "metadata": {},
   "outputs": [],
   "source": [
    "# Method 3: Read all lines into a list\n",
    "with open('sample.txt', 'r') as file:\n",
    "    lines = file.readlines()\n",
    "    print(\"All lines as list:\")\n",
    "    for i, line in enumerate(lines):\n",
    "        print(f\"{i}: {line.strip()}\")"
   ]
  },
  {
   "cell_type": "markdown",
   "metadata": {},
   "source": [
    "## File Modes\n",
    "\n",
    "Different modes for opening files:\n",
    "- 'r': Read (default)\n",
    "- 'w': Write (overwrites existing file)\n",
    "- 'a': Append\n",
    "- 'x': Create (fails if file exists)\n",
    "- 'b': Binary mode\n",
    "- 't': Text mode (default)\n",
    "- '+': Read and write"
   ]
  },
  {
   "cell_type": "code",
   "execution_count": null,
   "metadata": {},
   "outputs": [],
   "source": [
    "# Append to file\n",
    "with open('sample.txt', 'a') as file:\n",
    "    file.write(\"\\nThis line was appended!\")\n",
    "\n",
    "# Read the updated content\n",
    "with open('sample.txt', 'r') as file:\n",
    "    print(\"Updated content:\")\n",
    "    print(file.read())"
   ]
  },
  {
   "cell_type": "markdown",
   "metadata": {},
   "source": [
    "## Exception Handling with Files"
   ]
  },
  {
   "cell_type": "code",
   "execution_count": null,
   "metadata": {},
   "outputs": [],
   "source": [
    "# Handling file not found errors\n",
    "try:\n",
    "    with open('nonexistent.txt', 'r') as file:\n",
    "        content = file.read()\n",
    "except FileNotFoundError:\n",
    "    print(\"File not found!\")\n",
    "except PermissionError:\n",
    "    print(\"Permission denied!\")\n",
    "except Exception as e:\n",
    "    print(f\"An error occurred: {e}\")"
   ]
  },
  {
   "cell_type": "markdown",
   "metadata": {},
   "source": [
    "## Working with Different Encodings"
   ]
  },
  {
   "cell_type": "code",
   "execution_count": null,
   "metadata": {},
   "outputs": [],
   "source": [
    "# Writing with specific encoding\n",
    "text_with_unicode = \"Hello World! 🌍 Ñoño café\"\n",
    "\n",
    "# Write with UTF-8 encoding\n",
    "with open('unicode_sample.txt', 'w', encoding='utf-8') as file:\n",
    "    file.write(text_with_unicode)\n",
    "\n",
    "# Read with UTF-8 encoding\n",
    "with open('unicode_sample.txt', 'r', encoding='utf-8') as file:\n",
    "    content = file.read()\n",
    "    print(\"Unicode content:\")\n",
    "    print(content)"
   ]
  },
  {
   "cell_type": "markdown",
   "metadata": {},
   "source": [
    "## File Operations - Copy, Move, Delete"
   ]
  },
  {
   "cell_type": "code",
   "execution_count": null,
   "metadata": {},
   "outputs": [],
   "source": [
    "import os\n",
    "import shutil\n",
    "\n",
    "# Check if file exists\n",
    "if os.path.exists('sample.txt'):\n",
    "    print(\"sample.txt exists\")\n",
    "\n",
    "# Get file size\n",
    "file_size = os.path.getsize('sample.txt')\n",
    "print(f\"File size: {file_size} bytes\")\n",
    "\n",
    "# Copy file\n",
    "shutil.copy('sample.txt', 'sample_copy.txt')\n",
    "print(\"File copied successfully\")\n",
    "\n",
    "# List files in current directory\n",
    "print(\"Files in current directory:\")\n",
    "for file in os.listdir('.'):\n",
    "    if file.endswith('.txt'):\n",
    "        print(f\"  {file}\")"
   ]
  },
  {
   "cell_type": "markdown",
   "metadata": {},
   "source": [
    "## Practical Example: Word Counter"
   ]
  },
  {
   "cell_type": "code",
   "execution_count": null,
   "metadata": {},
   "outputs": [],
   "source": [
    "def count_words_in_file(filename):\n",
    "    \"\"\"Count words, lines, and characters in a text file\"\"\"\n",
    "    try:\n",
    "        with open(filename, 'r', encoding='utf-8') as file:\n",
    "            content = file.read()\n",
    "            \n",
    "        # Count statistics\n",
    "        lines = content.split('\\n')\n",
    "        words = content.split()\n",
    "        characters = len(content)\n",
    "        \n",
    "        return {\n",
    "            'lines': len(lines),\n",
    "            'words': len(words),\n",
    "            'characters': characters\n",
    "        }\n",
    "    except Exception as e:\n",
    "        return f\"Error reading file: {e}\"\n",
    "\n",
    "# Test the function\n",
    "stats = count_words_in_file('sample.txt')\n",
    "print(\"File statistics:\")\n",
    "for key, value in stats.items():\n",
    "    print(f\"  {key}: {value}\")"
   ]
  },
  {
   "cell_type": "markdown",
   "metadata": {},
   "source": [
    "## Cleanup"
   ]
  },
  {
   "cell_type": "code",
   "execution_count": null,
   "metadata": {},
   "outputs": [],
   "source": [
    "# Clean up created files\n",
    "files_to_remove = ['sample.txt', 'sample_copy.txt', 'unicode_sample.txt']\n",
    "\n",
    "for filename in files_to_remove:\n",
    "    try:\n",
    "        if os.path.exists(filename):\n",
    "            os.remove(filename)\n",
    "            print(f\"Removed {filename}\")\n",
    "    except Exception as e:\n",
    "        print(f\"Could not remove {filename}: {e}\")"
   ]
  },
  {
   "cell_type": "markdown",
   "metadata": {},
   "source": [
    "## Key Takeaways\n",
    "\n",
    "1. **Always use context managers** (`with` statement) for file operations\n",
    "2. **Handle exceptions** when working with files\n",
    "3. **Specify encoding** explicitly when working with text files\n",
    "4. **Different file modes** serve different purposes\n",
    "5. **File operations** like copy, move, delete can be done with `os` and `shutil` modules\n",
    "\n",
    "## Practice Exercises\n",
    "\n",
    "1. Create a function that reads a file and returns the most frequently used word\n",
    "2. Write a program that merges multiple text files into one\n",
    "3. Create a simple log file writer that timestamps each entry\n",
    "4. Build a file backup system that creates copies with timestamps"
   ]
  }
 ],
 "metadata": {
  "kernelspec": {
   "display_name": "Python 3",
   "language": "python",
   "name": "python3"
  },
  "language_info": {
   "codemirror_mode": {
    "name": "ipython",
    "version": 3
   },
   "file_extension": ".py",
   "mimetype": "text/x-python",
   "name": "python",
   "nbconvert_exporter": "python",
   "pygments_lexer": "ipython3",
   "version": "3.8.5"
  }
 },
 "nbformat": 4,
 "nbformat_minor": 4
}