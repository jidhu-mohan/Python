{
 "cells": [
  {
   "cell_type": "markdown",
   "metadata": {},
   "source": [
    "# Pandas Basics and DataFrames\n",
    "\n",
    "Pandas is the most important library for data manipulation and analysis in Python. It provides high-performance data structures and data analysis tools, making it essential for data science, NLP, and machine learning projects.\n",
    "\n",
    "## Why Pandas?\n",
    "- **Data structures**: DataFrame and Series for handling structured data\n",
    "- **Data cleaning**: Tools for handling missing data, duplicates, etc.\n",
    "- **Data transformation**: Grouping, merging, reshaping operations\n",
    "- **File I/O**: Read/write CSV, Excel, JSON, SQL databases, etc.\n",
    "- **Integration**: Works seamlessly with NumPy, Matplotlib, Scikit-learn\n",
    "\n",
    "## Topics Covered:\n",
    "- Pandas installation and setup\n",
    "- Series: 1D labeled arrays\n",
    "- DataFrames: 2D labeled data structures\n",
    "- Creating DataFrames from various sources\n",
    "- Basic operations and attributes\n",
    "- Indexing and selection\n",
    "- Data inspection and summary statistics"
   ]
  },
  {
   "cell_type": "markdown",
   "metadata": {},
   "source": [
    "## Installation and Setup"
   ]
  },
  {
   "cell_type": "code",
   "execution_count": null,
   "metadata": {},
   "outputs": [],
   "source": [
    "# Install pandas (if not already installed)\n",
    "# !pip install pandas\n",
    "\n",
    "import pandas as pd\n",
    "import numpy as np\n",
    "from datetime import datetime, date\n",
    "\n",
    "# Check pandas version\n",
    "print(f\"Pandas version: {pd.__version__}\")\n",
    "\n",
    "# Display options\n",
    "pd.set_option('display.max_columns', None)\n",
    "pd.set_option('display.width', None)"
   ]
  },
  {
   "cell_type": "markdown",
   "metadata": {},
   "source": [
    "## Pandas Series: 1D Labeled Arrays"
   ]
  },
  {
   "cell_type": "code",
   "execution_count": null,
   "metadata": {},
   "outputs": [],
   "source": [
    "# Creating Series from lists\n",
    "fruits = pd.Series(['apple', 'banana', 'orange', 'grape'])\n",
    "print(\"Fruits Series:\")\n",
    "print(fruits)\n",
    "print(f\"Type: {type(fruits)}\")\n",
    "print()\n",
    "\n",
    "# Series with custom index\n",
    "prices = pd.Series([1.50, 0.80, 2.00, 3.50], \n",
    "                  index=['apple', 'banana', 'orange', 'grape'],\n",
    "                  name='Fruit Prices')\n",
    "print(\"Prices Series:\")\n",
    "print(prices)\n",
    "print()"
   ]
  },
  {
   "cell_type": "code",
   "execution_count": null,
   "metadata": {},
   "outputs": [],
   "source": [
    "# Series attributes\n",
    "print(f\"Values: {prices.values}\")\n",
    "print(f\"Index: {prices.index.tolist()}\")\n",
    "print(f\"Name: {prices.name}\")\n",
    "print(f\"Size: {prices.size}\")\n",
    "print(f\"Shape: {prices.shape}\")\n",
    "print(f\"Data type: {prices.dtype}\")\n",
    "print()\n",
    "\n",
    "# Accessing elements\n",
    "print(f\"Apple price: ${prices['apple']}\")\n",
    "print(f\"First item: {prices.iloc[0]}\")\n",
    "print(f\"Expensive fruits (>$2): \\n{prices[prices > 2.0]}\")"
   ]
  },
  {
   "cell_type": "code",
   "execution_count": null,
   "metadata": {},
   "outputs": [],
   "source": [
    "# Creating Series from dictionary\n",
    "student_grades = {\n",
    "    'Alice': 95,\n",
    "    'Bob': 87,\n",
    "    'Charlie': 92,\n",
    "    'Diana': 88,\n",
    "    'Eve': 94\n",
    "}\n",
    "\n",
    "grades_series = pd.Series(student_grades, name='Math Grades')\n",
    "print(\"Student grades:\")\n",
    "print(grades_series)\n",
    "print()\n",
    "\n",
    "# Basic statistics\n",
    "print(f\"Mean grade: {grades_series.mean():.1f}\")\n",
    "print(f\"Highest grade: {grades_series.max()}\")\n",
    "print(f\"Student with highest grade: {grades_series.idxmax()}\")"
   ]
  },
  {
   "cell_type": "markdown",
   "metadata": {},
   "source": [
    "## Pandas DataFrames: 2D Labeled Data Structures"
   ]
  },
  {
   "cell_type": "code",
   "execution_count": null,
   "metadata": {},
   "outputs": [],
   "source": [
    "# Creating DataFrame from dictionary\n",
    "student_data = {\n",
    "    'Name': ['Alice', 'Bob', 'Charlie', 'Diana', 'Eve'],\n",
    "    'Age': [20, 21, 19, 22, 20],\n",
    "    'Grade': [95, 87, 92, 88, 94],\n",
    "    'City': ['New York', 'London', 'Paris', 'Tokyo', 'Sydney']\n",
    "}\n",
    "\n",
    "df = pd.DataFrame(student_data)\n",
    "print(\"Student DataFrame:\")\n",
    "print(df)\n",
    "print(f\"\\nType: {type(df)}\")"
   ]
  },
  {
   "cell_type": "code",
   "execution_count": null,
   "metadata": {},
   "outputs": [],
   "source": [
    "# DataFrame attributes\n",
    "print(f\"Shape: {df.shape}\")\n",
    "print(f\"Size: {df.size}\")\n",
    "print(f\"Columns: {df.columns.tolist()}\")\n",
    "print(f\"Index: {df.index.tolist()}\")\n",
    "print(f\"Data types:\\n{df.dtypes}\")\n",
    "print()\n",
    "\n",
    "# Quick info about the DataFrame\n",
    "print(\"DataFrame info:\")\n",
    "df.info()"
   ]
  },
  {
   "cell_type": "code",
   "execution_count": null,
   "metadata": {},
   "outputs": [],
   "source": [
    "# Creating DataFrame from list of dictionaries\n",
    "employees = [\n",
    "    {'name': 'John', 'department': 'IT', 'salary': 75000, 'experience': 5},\n",
    "    {'name': 'Sarah', 'department': 'HR', 'salary': 65000, 'experience': 3},\n",
    "    {'name': 'Mike', 'department': 'IT', 'salary': 85000, 'experience': 7},\n",
    "    {'name': 'Lisa', 'department': 'Finance', 'salary': 70000, 'experience': 4},\n",
    "    {'name': 'Tom', 'department': 'IT', 'salary': 80000, 'experience': 6}\n",
    "]\n",
    "\n",
    "emp_df = pd.DataFrame(employees)\n",
    "print(\"Employee DataFrame:\")\n",
    "print(emp_df)\n",
    "print()"
   ]
  },
  {
   "cell_type": "code",
   "execution_count": null,
   "metadata": {},
   "outputs": [],
   "source": [
    "# Creating DataFrame from NumPy array\n",
    "np.random.seed(42)\n",
    "data_matrix = np.random.randn(5, 4)\n",
    "columns = ['Feature_A', 'Feature_B', 'Feature_C', 'Feature_D']\n",
    "index = ['Sample_1', 'Sample_2', 'Sample_3', 'Sample_4', 'Sample_5']\n",
    "\n",
    "numeric_df = pd.DataFrame(data_matrix, columns=columns, index=index)\n",
    "print(\"Numeric DataFrame from NumPy:\")\n",
    "print(numeric_df.round(3))\n",
    "print()"
   ]
  },
  {
   "cell_type": "markdown",
   "metadata": {},
   "source": [
    "## Basic DataFrame Operations"
   ]
  },
  {
   "cell_type": "code",
   "execution_count": null,
   "metadata": {},
   "outputs": [],
   "source": [
    "# Head and tail\n",
    "print(\"First 3 rows:\")\n",
    "print(emp_df.head(3))\n",
    "print()\n",
    "\n",
    "print(\"Last 2 rows:\")\n",
    "print(emp_df.tail(2))\n",
    "print()\n",
    "\n",
    "# Summary statistics\n",
    "print(\"Summary statistics:\")\n",
    "print(emp_df.describe())\n",
    "print()"
   ]
  },
  {
   "cell_type": "code",
   "execution_count": null,
   "metadata": {},
   "outputs": [],
   "source": [
    "# Adding new columns\n",
    "emp_df['annual_bonus'] = emp_df['salary'] * 0.1\n",
    "emp_df['total_compensation'] = emp_df['salary'] + emp_df['annual_bonus']\n",
    "\n",
    "print(\"DataFrame with new columns:\")\n",
    "print(emp_df)\n",
    "print()\n",
    "\n",
    "# Dropping columns\n",
    "emp_df_clean = emp_df.drop(['annual_bonus'], axis=1)\n",
    "print(\"After dropping 'annual_bonus' column:\")\n",
    "print(emp_df_clean.columns.tolist())"
   ]
  },
  {
   "cell_type": "markdown",
   "metadata": {},
   "source": [
    "## Indexing and Selection"
   ]
  },
  {
   "cell_type": "code",
   "execution_count": null,
   "metadata": {},
   "outputs": [],
   "source": [
    "# Column selection\n",
    "print(\"Names column:\")\n",
    "print(emp_df['name'])\n",
    "print()\n",
    "\n",
    "# Multiple column selection\n",
    "print(\"Name and salary columns:\")\n",
    "print(emp_df[['name', 'salary']])\n",
    "print()\n",
    "\n",
    "# Row selection by index\n",
    "print(\"First row:\")\n",
    "print(emp_df.iloc[0])\n",
    "print()\n",
    "\n",
    "print(\"First 3 rows:\")\n",
    "print(emp_df.iloc[:3])\n",
    "print()"
   ]
  },
  {
   "cell_type": "code",
   "execution_count": null,
   "metadata": {},
   "outputs": [],
   "source": [
    "# Boolean indexing\n",
    "print(\"IT employees:\")\n",
    "it_employees = emp_df[emp_df['department'] == 'IT']\n",
    "print(it_employees)\n",
    "print()\n",
    "\n",
    "print(\"High salary employees (>75000):\")\n",
    "high_salary = emp_df[emp_df['salary'] > 75000]\n",
    "print(high_salary[['name', 'salary']])\n",
    "print()\n",
    "\n",
    "# Multiple conditions\n",
    "print(\"IT employees with salary > 75000:\")\n",
    "condition = (emp_df['department'] == 'IT') & (emp_df['salary'] > 75000)\n",
    "print(emp_df[condition][['name', 'salary', 'experience']])"
   ]
  },
  {
   "cell_type": "code",
   "execution_count": null,
   "metadata": {},
   "outputs": [],
   "source": [
    "# Using .loc and .iloc\n",
    "print(\"Using .loc (label-based):\")\n",
    "print(emp_df.loc[0, 'name'])  # Row 0, column 'name'\n",
    "print(emp_df.loc[:2, ['name', 'salary']])  # First 3 rows, specific columns\n",
    "print()\n",
    "\n",
    "print(\"Using .iloc (integer-based):\")\n",
    "print(emp_df.iloc[0, 1])  # Row 0, column 1\n",
    "print(emp_df.iloc[:3, [0, 2]])  # First 3 rows, columns 0 and 2\n",
    "print()"
   ]
  },
  {
   "cell_type": "markdown",
   "metadata": {},
   "source": [
    "## Data Inspection and Summary"
   ]
  },
  {
   "cell_type": "code",
   "execution_count": null,
   "metadata": {},
   "outputs": [],
   "source": [
    "# Value counts\n",
    "print(\"Department distribution:\")\n",
    "print(emp_df['department'].value_counts())\n",
    "print()\n",
    "\n",
    "# Unique values\n",
    "print(\"Unique departments:\")\n",
    "print(emp_df['department'].unique())\n",
    "print(f\"Number of unique departments: {emp_df['department'].nunique()}\")\n",
    "print()\n",
    "\n",
    "# Check for missing values\n",
    "print(\"Missing values per column:\")\n",
    "print(emp_df.isnull().sum())\n",
    "print()\n",
    "\n",
    "# Memory usage\n",
    "print(\"Memory usage:\")\n",
    "print(emp_df.memory_usage(deep=True))"
   ]
  },
  {
   "cell_type": "code",
   "execution_count": null,
   "metadata": {},
   "outputs": [],
   "source": [
    "# Statistical summary by group\n",
    "print(\"Salary statistics by department:\")\n",
    "dept_stats = emp_df.groupby('department')['salary'].agg([\n",
    "    'count', 'mean', 'std', 'min', 'max'\n",
    "])\n",
    "print(dept_stats.round(2))\n",
    "print()\n",
    "\n",
    "# Correlation matrix for numeric columns\n",
    "print(\"Correlation matrix:\")\n",
    "numeric_cols = emp_df.select_dtypes(include=[np.number])\n",
    "print(numeric_cols.corr().round(3))"
   ]
  },
  {
   "cell_type": "markdown",
   "metadata": {},
   "source": [
    "## Working with Different Data Types"
   ]
  },
  {
   "cell_type": "code",
   "execution_count": null,
   "metadata": {},
   "outputs": [],
   "source": [
    "# Creating DataFrame with mixed data types\n",
    "mixed_data = {\n",
    "    'product_id': [1, 2, 3, 4, 5],\n",
    "    'product_name': ['Laptop', 'Mouse', 'Keyboard', 'Monitor', 'Webcam'],\n",
    "    'price': [999.99, 25.50, 75.00, 299.99, 89.99],\n",
    "    'in_stock': [True, False, True, True, False],\n",
    "    'category': ['Electronics', 'Accessories', 'Accessories', 'Electronics', 'Accessories'],\n",
    "    'release_date': ['2023-01-15', '2023-02-01', '2023-01-20', '2023-03-01', '2023-02-15']\n",
    "}\n",
    "\n",
    "products_df = pd.DataFrame(mixed_data)\n",
    "print(\"Original data types:\")\n",
    "print(products_df.dtypes)\n",
    "print()\n",
    "\n",
    "# Convert data types\n",
    "products_df['release_date'] = pd.to_datetime(products_df['release_date'])\n",
    "products_df['category'] = products_df['category'].astype('category')\n",
    "\n",
    "print(\"After type conversion:\")\n",
    "print(products_df.dtypes)\n",
    "print()\n",
    "\n",
    "print(\"DataFrame with proper types:\")\n",
    "print(products_df)"
   ]
  },
  {
   "cell_type": "markdown",
   "metadata": {},
   "source": [
    "## Practical Example: Sales Data Analysis"
   ]
  },
  {
   "cell_type": "code",
   "execution_count": null,
   "metadata": {},
   "outputs": [],
   "source": [
    "# Create sample sales data\n",
    "np.random.seed(42)\n",
    "n_sales = 100\n",
    "\n",
    "sales_data = {\n",
    "    'sale_id': range(1, n_sales + 1),\n",
    "    'customer_id': np.random.randint(1, 21, n_sales),\n",
    "    'product': np.random.choice(['Laptop', 'Phone', 'Tablet', 'Headphones', 'Watch'], n_sales),\n",
    "    'quantity': np.random.randint(1, 6, n_sales),\n",
    "    'unit_price': np.random.uniform(50, 1000, n_sales).round(2),\n",
    "    'date': pd.date_range('2023-01-01', periods=n_sales, freq='D')\n",
    "}\n",
    "\n",
    "sales_df = pd.DataFrame(sales_data)\n",
    "sales_df['total_amount'] = sales_df['quantity'] * sales_df['unit_price']\n",
    "sales_df['month'] = sales_df['date'].dt.month\n",
    "\n",
    "print(\"Sales DataFrame (first 10 rows):\")\n",
    "print(sales_df.head(10))\n",
    "print(f\"\\nShape: {sales_df.shape}\")"
   ]
  },
  {
   "cell_type": "code",
   "execution_count": null,
   "metadata": {},
   "outputs": [],
   "source": [
    "# Basic analysis\n",
    "print(\"Sales Summary:\")\n",
    "print(f\"Total revenue: ${sales_df['total_amount'].sum():,.2f}\")\n",
    "print(f\"Average order value: ${sales_df['total_amount'].mean():.2f}\")\n",
    "print(f\"Total units sold: {sales_df['quantity'].sum():,}\")\n",
    "print(f\"Unique customers: {sales_df['customer_id'].nunique()}\")\n",
    "print()\n",
    "\n",
    "# Top products by revenue\n",
    "print(\"Top products by revenue:\")\n",
    "product_revenue = sales_df.groupby('product')['total_amount'].sum().sort_values(ascending=False)\n",
    "print(product_revenue.round(2))\n",
    "print()\n",
    "\n",
    "# Monthly sales\n",
    "print(\"Monthly sales:\")\n",
    "monthly_sales = sales_df.groupby('month').agg({\n",
    "    'total_amount': 'sum',\n",
    "    'quantity': 'sum',\n",
    "    'sale_id': 'count'\n",
    "}).round(2)\n",
    "monthly_sales.columns = ['Revenue', 'Units_Sold', 'Number_of_Sales']\n",
    "print(monthly_sales)\n",
    "print()\n",
    "\n",
    "# Best customers\n",
    "print(\"Top 5 customers by total spending:\")\n",
    "top_customers = sales_df.groupby('customer_id')['total_amount'].sum().sort_values(ascending=False).head(5)\n",
    "print(top_customers.round(2))"
   ]
  },
  {
   "cell_type": "markdown",
   "metadata": {},
   "source": [
    "## Key Takeaways\n",
    "\n",
    "1. **Series**: 1D labeled arrays, similar to enhanced Python lists with indices\n",
    "2. **DataFrame**: 2D labeled data structure, like a spreadsheet or SQL table\n",
    "3. **Creation**: Can create from dictionaries, lists, NumPy arrays, and files\n",
    "4. **Selection**: Use brackets, `.loc[]`, and `.iloc[]` for different selection needs\n",
    "5. **Boolean indexing**: Filter data using conditions\n",
    "6. **Data types**: Pandas handles mixed data types automatically but conversion may be needed\n",
    "7. **Inspection**: Use `.info()`, `.describe()`, `.head()`, `.tail()` to understand data\n",
    "8. **Groupby**: Powerful tool for aggregating data by categories\n",
    "\n",
    "## Common DataFrame Attributes and Methods\n",
    "\n",
    "**Attributes:**\n",
    "- `.shape`, `.size`, `.columns`, `.index`, `.dtypes`\n",
    "- `.values` (underlying NumPy array)\n",
    "\n",
    "**Inspection:**\n",
    "- `.head()`, `.tail()`, `.info()`, `.describe()`\n",
    "- `.isnull()`, `.nunique()`, `.value_counts()`\n",
    "\n",
    "**Selection:**\n",
    "- `df['column']`, `df[['col1', 'col2']]`\n",
    "- `.loc[]`, `.iloc[]`, boolean indexing\n",
    "\n",
    "## Practice Exercises\n",
    "\n",
    "1. Create a DataFrame of movie data (title, genre, year, rating, box_office) and analyze it\n",
    "2. Load a CSV file and perform basic data exploration\n",
    "3. Create a student gradebook system using pandas\n",
    "4. Build a simple inventory management system\n",
    "5. Analyze time series data (stock prices, weather, etc.)\n",
    "\n",
    "## Next Steps\n",
    "\n",
    "In the next notebook, we'll explore:\n",
    "- Data cleaning and preprocessing\n",
    "- Handling missing values\n",
    "- Data transformation and reshaping\n",
    "- Merging and joining DataFrames\n",
    "- Advanced groupby operations"
   ]
  }
 ],
 "metadata": {
  "kernelspec": {
   "display_name": "Python 3",
   "language": "python",
   "name": "python3"
  },
  "language_info": {
   "codemirror_mode": {
    "name": "ipython",
    "version": 3
   },
   "file_extension": ".py",
   "mimetype": "text/x-python",
   "name": "python",
   "nbconvert_exporter": "python",
   "pygments_lexer": "ipython3",
   "version": "3.8.5"
  }
 },
 "nbformat": 4,
 "nbformat_minor": 4
}