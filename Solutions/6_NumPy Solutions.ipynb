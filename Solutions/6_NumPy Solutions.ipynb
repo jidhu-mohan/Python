{
 "cells": [
  {
   "cell_type": "markdown",
   "metadata": {},
   "source": [
    "# NumPy Assignment Solutions\n",
    "\n",
    "## Complete solutions to the NumPy assignment exercises"
   ]
  },
  {
   "cell_type": "markdown",
   "metadata": {},
   "source": [
    "## Import NumPy"
   ]
  },
  {
   "cell_type": "code",
   "execution_count": null,
   "metadata": {},
   "outputs": [],
   "source": [
    "import numpy as np"
   ]
  },
  {
   "cell_type": "markdown",
   "metadata": {},
   "source": [
    "## Array Creation\n",
    "\n",
    "### Exercise 1 Solutions"
   ]
  },
  {
   "cell_type": "code",
   "execution_count": null,
   "metadata": {},
   "outputs": [],
   "source": [
    "# 1. Create 1D array from 0 to 9\n",
    "arr1 = np.arange(10)\n",
    "print(\"1D array:\", arr1)"
   ]
  },
  {
   "cell_type": "code",
   "execution_count": null,
   "metadata": {},
   "outputs": [],
   "source": [
    "# 2. Create 3x3 array of zeros\n",
    "arr2 = np.zeros((3, 3))\n",
    "print(\"3x3 zeros:\")\n",
    "print(arr2)"
   ]
  },
  {
   "cell_type": "code",
   "execution_count": null,
   "metadata": {},
   "outputs": [],
   "source": [
    "# 3. Create 2x4 array of ones\n",
    "arr3 = np.ones((2, 4))\n",
    "print(\"2x4 ones:\")\n",
    "print(arr3)"
   ]
  },
  {
   "cell_type": "code",
   "execution_count": null,
   "metadata": {},
   "outputs": [],
   "source": [
    "# 4. Create 4x4 identity matrix\n",
    "arr4 = np.eye(4)\n",
    "print(\"4x4 identity matrix:\")\n",
    "print(arr4)"
   ]
  },
  {
   "cell_type": "code",
   "execution_count": null,
   "metadata": {},
   "outputs": [],
   "source": [
    "# 5. Create random 3x3 array\n",
    "np.random.seed(42)  # For reproducible results\n",
    "arr5 = np.random.random((3, 3))\n",
    "print(\"Random 3x3 array:\")\n",
    "print(arr5)"
   ]
  },
  {
   "cell_type": "markdown",
   "metadata": {},
   "source": [
    "## Array Indexing and Slicing\n",
    "\n",
    "### Exercise 2 Solutions"
   ]
  },
  {
   "cell_type": "code",
   "execution_count": null,
   "metadata": {},
   "outputs": [],
   "source": [
    "arr = np.array([[1, 2, 3, 4, 5],\n",
    "                [6, 7, 8, 9, 10],\n",
    "                [11, 12, 13, 14, 15],\n",
    "                [16, 17, 18, 19, 20]])\n",
    "print(\"Original array:\")\n",
    "print(arr)"
   ]
  },
  {
   "cell_type": "code",
   "execution_count": null,
   "metadata": {},
   "outputs": [],
   "source": [
    "# 1. Element at row 2, column 3 (remember 0-indexing)\n",
    "element = arr[2, 3]\n",
    "print(\"Element at row 2, column 3:\", element)"
   ]
  },
  {
   "cell_type": "code",
   "execution_count": null,
   "metadata": {},
   "outputs": [],
   "source": [
    "# 2. First row\n",
    "first_row = arr[0, :]\n",
    "# Alternative: arr[0]\n",
    "print(\"First row:\", first_row)"
   ]
  },
  {
   "cell_type": "code",
   "execution_count": null,
   "metadata": {},
   "outputs": [],
   "source": [
    "# 3. Last column\n",
    "last_col = arr[:, -1]\n",
    "# Alternative: arr[:, 4]\n",
    "print(\"Last column:\", last_col)"
   ]
  },
  {
   "cell_type": "code",
   "execution_count": null,
   "metadata": {},
   "outputs": [],
   "source": [
    "# 4. Subarray rows 1-2, columns 2-4\n",
    "subarray = arr[1:3, 2:5]\n",
    "print(\"Subarray:\")\n",
    "print(subarray)"
   ]
  },
  {
   "cell_type": "code",
   "execution_count": null,
   "metadata": {},
   "outputs": [],
   "source": [
    "# 5. Elements greater than 10\n",
    "greater_than_10 = arr[arr > 10]\n",
    "print(\"Elements > 10:\", greater_than_10)"
   ]
  },
  {
   "cell_type": "markdown",
   "metadata": {},
   "source": [
    "## Array Operations\n",
    "\n",
    "### Exercise 3 Solutions"
   ]
  },
  {
   "cell_type": "code",
   "execution_count": null,
   "metadata": {},
   "outputs": [],
   "source": [
    "# Create two arrays for operations\n",
    "a = np.array([1, 2, 3, 4, 5])\n",
    "b = np.array([2, 4, 6, 8, 10])\n",
    "\n",
    "print(\"Array a:\", a)\n",
    "print(\"Array b:\", b)"
   ]
  },
  {
   "cell_type": "code",
   "execution_count": null,
   "metadata": {},
   "outputs": [],
   "source": [
    "# 1. Addition\n",
    "addition = a + b\n",
    "print(\"a + b =\", addition)"
   ]
  },
  {
   "cell_type": "code",
   "execution_count": null,
   "metadata": {},
   "outputs": [],
   "source": [
    "# 2. Subtraction\n",
    "subtraction = a - b\n",
    "print(\"a - b =\", subtraction)"
   ]
  },
  {
   "cell_type": "code",
   "execution_count": null,
   "metadata": {},
   "outputs": [],
   "source": [
    "# 3. Element-wise multiplication\n",
    "multiplication = a * b\n",
    "print(\"a * b =\", multiplication)"
   ]
  },
  {
   "cell_type": "code",
   "execution_count": null,
   "metadata": {},
   "outputs": [],
   "source": [
    "# 4. Division\n",
    "division = b / a\n",
    "print(\"b / a =\", division)"
   ]
  },
  {
   "cell_type": "code",
   "execution_count": null,
   "metadata": {},
   "outputs": [],
   "source": [
    "# 5. Square of a\n",
    "square_a = a ** 2\n",
    "# Alternative: np.square(a)\n",
    "print(\"a² =\", square_a)"
   ]
  },
  {
   "cell_type": "code",
   "execution_count": null,
   "metadata": {},
   "outputs": [],
   "source": [
    "# 6. Square root of b\n",
    "sqrt_b = np.sqrt(b)\n",
    "print(\"√b =\", sqrt_b)"
   ]
  },
  {
   "cell_type": "markdown",
   "metadata": {},
   "source": [
    "## Statistical Operations\n",
    "\n",
    "### Exercise 4 Solutions"
   ]
  },
  {
   "cell_type": "code",
   "execution_count": null,
   "metadata": {},
   "outputs": [],
   "source": [
    "data = np.array([[10, 20, 30, 40],\n",
    "                 [50, 60, 70, 80],\n",
    "                 [90, 100, 110, 120]])\n",
    "\n",
    "print(\"Data array:\")\n",
    "print(data)"
   ]
  },
  {
   "cell_type": "code",
   "execution_count": null,
   "metadata": {},
   "outputs": [],
   "source": [
    "# 1. Mean of all elements\n",
    "mean_all = np.mean(data)\n",
    "# Alternative: data.mean()\n",
    "print(\"Mean of all elements:\", mean_all)"
   ]
  },
  {
   "cell_type": "code",
   "execution_count": null,
   "metadata": {},
   "outputs": [],
   "source": [
    "# 2. Mean along axis 0 (columns)\n",
    "mean_cols = np.mean(data, axis=0)\n",
    "print(\"Mean along columns:\", mean_cols)"
   ]
  },
  {
   "cell_type": "code",
   "execution_count": null,
   "metadata": {},
   "outputs": [],
   "source": [
    "# 3. Mean along axis 1 (rows)\n",
    "mean_rows = np.mean(data, axis=1)\n",
    "print(\"Mean along rows:\", mean_rows)"
   ]
  },
  {
   "cell_type": "code",
   "execution_count": null,
   "metadata": {},
   "outputs": [],
   "source": [
    "# 4. Maximum value\n",
    "max_val = np.max(data)\n",
    "# Alternative: data.max()\n",
    "print(\"Maximum value:\", max_val)"
   ]
  },
  {
   "cell_type": "code",
   "execution_count": null,
   "metadata": {},
   "outputs": [],
   "source": [
    "# 5. Minimum value\n",
    "min_val = np.min(data)\n",
    "# Alternative: data.min()\n",
    "print(\"Minimum value:\", min_val)"
   ]
  },
  {
   "cell_type": "code",
   "execution_count": null,
   "metadata": {},
   "outputs": [],
   "source": [
    "# 6. Standard deviation\n",
    "std_val = np.std(data)\n",
    "# Alternative: data.std()\n",
    "print(\"Standard deviation:\", std_val)"
   ]
  },
  {
   "cell_type": "code",
   "execution_count": null,
   "metadata": {},
   "outputs": [],
   "source": [
    "# 7. Sum of all elements\n",
    "sum_val = np.sum(data)\n",
    "# Alternative: data.sum()\n",
    "print(\"Sum of all elements:\", sum_val)"
   ]
  },
  {
   "cell_type": "markdown",
   "metadata": {},
   "source": [
    "## Array Reshaping and Manipulation\n",
    "\n",
    "### Exercise 5 Solutions"
   ]
  },
  {
   "cell_type": "code",
   "execution_count": null,
   "metadata": {},
   "outputs": [],
   "source": [
    "# Create an array from 1 to 12\n",
    "arr = np.arange(1, 13)\n",
    "print(\"Original array:\", arr)"
   ]
  },
  {
   "cell_type": "code",
   "execution_count": null,
   "metadata": {},
   "outputs": [],
   "source": [
    "# 1. Reshape to 3x4\n",
    "arr_3x4 = arr.reshape(3, 4)\n",
    "print(\"3x4 array:\")\n",
    "print(arr_3x4)"
   ]
  },
  {
   "cell_type": "code",
   "execution_count": null,
   "metadata": {},
   "outputs": [],
   "source": [
    "# 2. Reshape to 2x6\n",
    "arr_2x6 = arr.reshape(2, 6)\n",
    "print(\"2x6 array:\")\n",
    "print(arr_2x6)"
   ]
  },
  {
   "cell_type": "code",
   "execution_count": null,
   "metadata": {},
   "outputs": [],
   "source": [
    "# 3. Transpose the 3x4 array\n",
    "arr_transposed = arr_3x4.T\n",
    "# Alternative: arr_3x4.transpose() or np.transpose(arr_3x4)\n",
    "print(\"Transposed array:\")\n",
    "print(arr_transposed)"
   ]
  },
  {
   "cell_type": "code",
   "execution_count": null,
   "metadata": {},
   "outputs": [],
   "source": [
    "# 4. Flatten the array\n",
    "arr_flat = arr_3x4.flatten()\n",
    "# Alternative: arr_3x4.ravel()\n",
    "print(\"Flattened array:\", arr_flat)"
   ]
  },
  {
   "cell_type": "code",
   "execution_count": null,
   "metadata": {},
   "outputs": [],
   "source": [
    "# 5. Create a copy and modify\n",
    "arr_copy = arr.copy()\n",
    "arr_copy[0] = 999\n",
    "print(\"Original array:\", arr)\n",
    "print(\"Modified copy:\", arr_copy)"
   ]
  },
  {
   "cell_type": "markdown",
   "metadata": {},
   "source": [
    "## Boolean Indexing and Conditional Selection\n",
    "\n",
    "### Exercise 6 Solutions"
   ]
  },
  {
   "cell_type": "code",
   "execution_count": null,
   "metadata": {},
   "outputs": [],
   "source": [
    "scores = np.array([85, 92, 78, 95, 67, 88, 73, 91, 84, 79])\n",
    "print(\"Test scores:\", scores)"
   ]
  },
  {
   "cell_type": "code",
   "execution_count": null,
   "metadata": {},
   "outputs": [],
   "source": [
    "# 1. Scores greater than 80\n",
    "above_80 = scores[scores > 80]\n",
    "print(\"Scores > 80:\", above_80)"
   ]
  },
  {
   "cell_type": "code",
   "execution_count": null,
   "metadata": {},
   "outputs": [],
   "source": [
    "# 2. Scores between 75 and 90\n",
    "between_75_90 = scores[(scores >= 75) & (scores <= 90)]\n",
    "print(\"Scores between 75-90:\", between_75_90)"
   ]
  },
  {
   "cell_type": "code",
   "execution_count": null,
   "metadata": {},
   "outputs": [],
   "source": [
    "# 3. Count scores above 85\n",
    "count_above_85 = np.sum(scores > 85)\n",
    "# Alternative: len(scores[scores > 85])\n",
    "print(\"Number of scores > 85:\", count_above_85)"
   ]
  },
  {
   "cell_type": "code",
   "execution_count": null,
   "metadata": {},
   "outputs": [],
   "source": [
    "# 4. Replace scores below 75 with 75\n",
    "scores_adjusted = scores.copy()\n",
    "scores_adjusted[scores_adjusted < 75] = 75\n",
    "print(\"Adjusted scores:\", scores_adjusted)"
   ]
  },
  {
   "cell_type": "code",
   "execution_count": null,
   "metadata": {},
   "outputs": [],
   "source": [
    "# 5. Boolean array for A grades (90+)\n",
    "a_grades = scores >= 90\n",
    "print(\"A grades boolean:\", a_grades)\n",
    "print(\"A grade scores:\", scores[a_grades])"
   ]
  },
  {
   "cell_type": "markdown",
   "metadata": {},
   "source": [
    "## Challenge Problem\n",
    "\n",
    "### Exercise 7 Solutions"
   ]
  },
  {
   "cell_type": "code",
   "execution_count": null,
   "metadata": {},
   "outputs": [],
   "source": [
    "# Create two 3x3 matrices\n",
    "matrix1 = np.array([[1, 2, 3],\n",
    "                    [4, 5, 6],\n",
    "                    [7, 8, 10]])\n",
    "\n",
    "matrix2 = np.array([[2, 0, 1],\n",
    "                    [1, 3, 2],\n",
    "                    [0, 1, 4]])\n",
    "\n",
    "print(\"Matrix 1:\")\n",
    "print(matrix1)\n",
    "print(\"\\nMatrix 2:\")\n",
    "print(matrix2)"
   ]
  },
  {
   "cell_type": "code",
   "execution_count": null,
   "metadata": {},
   "outputs": [],
   "source": [
    "# 1. Matrix multiplication\n",
    "result_matrix = np.dot(matrix1, matrix2)\n",
    "# Alternative: matrix1 @ matrix2\n",
    "print(\"Matrix multiplication result:\")\n",
    "print(result_matrix)"
   ]
  },
  {
   "cell_type": "code",
   "execution_count": null,
   "metadata": {},
   "outputs": [],
   "source": [
    "# 2. Calculate determinant\n",
    "det = np.linalg.det(result_matrix)\n",
    "print(\"Determinant:\", det)"
   ]
  },
  {
   "cell_type": "code",
   "execution_count": null,
   "metadata": {},
   "outputs": [],
   "source": [
    "# 3. Calculate inverse (only if determinant is non-zero)\n",
    "if abs(det) > 1e-10:  # Check if determinant is not close to zero\n",
    "    inverse_matrix = np.linalg.inv(result_matrix)\n",
    "    print(\"Inverse matrix:\")\n",
    "    print(inverse_matrix)\n",
    "else:\n",
    "    print(\"Matrix is not invertible (determinant is close to 0)\")"
   ]
  },
  {
   "cell_type": "code",
   "execution_count": null,
   "metadata": {},
   "outputs": [],
   "source": [
    "# 4. Verify the inverse\n",
    "if abs(det) > 1e-10:\n",
    "    verification = np.dot(result_matrix, inverse_matrix)\n",
    "    # Alternative: result_matrix @ inverse_matrix\n",
    "    print(\"Verification (should be close to identity matrix):\")\n",
    "    print(verification)\n",
    "    print(\"\\nRounded verification:\")\n",
    "    print(np.round(verification, 10))  # Round to handle floating point errors"
   ]
  },
  {
   "cell_type": "markdown",
   "metadata": {},
   "source": [
    "## Summary of NumPy Concepts Covered\n",
    "\n",
    "This assignment covered the following NumPy fundamentals:\n",
    "\n",
    "### Array Creation\n",
    "- `np.arange()` - Create arrays with sequential values\n",
    "- `np.zeros()` - Create arrays filled with zeros\n",
    "- `np.ones()` - Create arrays filled with ones\n",
    "- `np.eye()` - Create identity matrices\n",
    "- `np.random.random()` - Create arrays with random values\n",
    "\n",
    "### Array Indexing and Slicing\n",
    "- Basic indexing with `[row, col]`\n",
    "- Slicing with `[start:end]`\n",
    "- Boolean indexing for conditional selection\n",
    "\n",
    "### Mathematical Operations\n",
    "- Element-wise operations (`+`, `-`, `*`, `/`, `**`)\n",
    "- Mathematical functions (`np.sqrt()`, `np.square()`)\n",
    "\n",
    "### Statistical Functions\n",
    "- `np.mean()`, `np.max()`, `np.min()`, `np.sum()`, `np.std()`\n",
    "- Operations along specific axes\n",
    "\n",
    "### Array Manipulation\n",
    "- `reshape()` - Change array dimensions\n",
    "- `transpose()` or `.T` - Transpose arrays\n",
    "- `flatten()` - Convert to 1D array\n",
    "- `copy()` - Create independent copies\n",
    "\n",
    "### Boolean Operations\n",
    "- Conditional selection with boolean arrays\n",
    "- Logical operators (`&`, `|`, `~`)\n",
    "- Counting with `np.sum()` on boolean arrays\n",
    "\n",
    "### Linear Algebra\n",
    "- Matrix multiplication with `np.dot()` or `@`\n",
    "- Determinant with `np.linalg.det()`\n",
    "- Matrix inverse with `np.linalg.inv()`\n",
    "\n",
    "These are the core NumPy operations you'll use frequently in data science and scientific computing!"
   ]
  }
 ],
 "metadata": {
  "kernelspec": {
   "display_name": "Python 3",
   "language": "python",
   "name": "python3"
  },
  "language_info": {
   "codemirror_mode": {
    "name": "ipython",
    "version": 3
   },
   "file_extension": ".py",
   "mimetype": "text/x-python",
   "name": "python",
   "nbconvert_exporter": "python",
   "pygments_lexer": "ipython3",
   "version": "3.8.5"
  }
 },
 "nbformat": 4,
 "nbformat_minor": 4
}